{
 "cells": [
  {
   "cell_type": "code",
   "execution_count": null,
   "id": "initial_id",
   "metadata": {
    "collapsed": true
   },
   "outputs": [],
   "source": [
    "nome = input(\"Digite seu nome: \")\n",
    "idade = int(input(\"Digite sua idade: \"))\n",
    "\n",
    "print(f\"Nome (tipo {type(nome)}): {nome}\")\n",
    "print(f\"Idade (tipo {type(idade)}): {idade}\")"
   ]
  },
  {
   "metadata": {},
   "cell_type": "code",
   "outputs": [],
   "execution_count": null,
   "source": [
    "try:\n",
    "    preco = float(input(\"Digite o preço do produto: \"))\n",
    "    produto = input(\"Digite o nome do produto: \")\n",
    "\n",
    "    print(f\"Produto: {produto} (tipo {type(produto)})\")\n",
    "    print(f\"Preço: R${preco:.2f} (tipo {type(preco)})\")\n",
    "except ValueError:\n",
    "    print(\"Erro: Por favor, digite um número válido para o preço!\")"
   ],
   "id": "ffd46ad472276d43"
  },
  {
   "metadata": {},
   "cell_type": "code",
   "outputs": [],
   "execution_count": null,
   "source": "",
   "id": "bf86e278fc30cc73"
  }
 ],
 "metadata": {
  "kernelspec": {
   "display_name": "Python 3",
   "language": "python",
   "name": "python3"
  },
  "language_info": {
   "codemirror_mode": {
    "name": "ipython",
    "version": 2
   },
   "file_extension": ".py",
   "mimetype": "text/x-python",
   "name": "python",
   "nbconvert_exporter": "python",
   "pygments_lexer": "ipython2",
   "version": "2.7.6"
  }
 },
 "nbformat": 4,
 "nbformat_minor": 5
}
